{
 "cells": [
  {
   "cell_type": "markdown",
   "metadata": {},
   "source": [
    "Hello Frauenloopians , \n",
    "\n",
    "Since we learned about the classes on monday we would like to do a movie database using classes . This would be something like movie data from imdb \n",
    "\n"
   ]
  },
  {
   "cell_type": "markdown",
   "metadata": {},
   "source": [
    "1. Create a class  movie that has the following attributes : if you are using python put this in ints own movie.py file.\n",
    "   \n",
    "Atrributes : \n",
    "title, year, director, rating, genres ,country\n",
    "   \n",
    "   \n",
    "Methods : \n",
    " __str__ method :ur movie name : director followed by year has to be shown. see example :\n",
    "                         titanic , James Cameron , 1997\n",
    "   \n",
    " __lt__ method :should show if the movie is made before another movie.\n",
    "   \n",
    " __gt__ method : if one movie is newer that the other movie.\n",
    " \n",
    " __eq__ method : if movie has the same director as the other.  \n",
    "   \n",
    " set_rate method : if the movie has no rating it should allow the user to set a rating.          "
   ]
  },
  {
   "cell_type": "markdown",
   "metadata": {},
   "source": [
    "2.Create a database for movies that has the following attributes :\n",
    "if you are using python put this in ints own databse.py file.\n",
    "\n",
    "    movie ( the above class)\n",
    "    movie_key or index ( it has to be updated everytime a movie being added or deleted)\n",
    "    \n",
    "    Methods :\n",
    "        add_movie ( adds a movie to database)\n",
    "        delete_movie\n",
    "        get_movie (using the index or movie_key) \n",
    "        get_movie (using any of attributes of movie such as title, year, director, rating, genres ,country)\n",
    "        get_best_movie(Gets the movies with rating four stars or higher)\n",
    "        \n",
    "        "
   ]
  },
  {
   "cell_type": "code",
   "execution_count": null,
   "metadata": {
    "collapsed": true
   },
   "outputs": [],
   "source": [
    "class Database:\n",
    "    def __init__('add parameter'):\n",
    "        'fill your code here '\n",
    "    def add_movie('add parameter'):\n",
    "        'fill your code here '\n",
    "\n",
    "    def delete_movie('add parameter'):\n",
    "        'fill your code here '\n",
    "\n",
    "    def get_movie('add parameter'):\n",
    "        'fill your code here '\n",
    "\n",
    "    def get_movies('add parameter'):\n",
    "        'fill your code here '\n",
    "        \n",
    "    def get_best_movie('add parameter'):\n",
    "        'fill your code here '"
   ]
  },
  {
   "cell_type": "markdown",
   "metadata": {},
   "source": [
    "Choose your 10 fav movies and add them to the database :\n",
    "    A list of movies can be found at :\n",
    "        https://gist.github.com/tiangechen/b68782efa49a16edaf07dc2cdaa855ea\n",
    "\n"
   ]
  },
  {
   "cell_type": "markdown",
   "metadata": {},
   "source": [
    "Deadline as last time sunday at midnight. You can submit your python files\n",
    "and/or jupyter files to canvas. "
   ]
  },
  {
   "cell_type": "code",
   "execution_count": null,
   "metadata": {
    "collapsed": true
   },
   "outputs": [],
   "source": []
  }
 ],
 "metadata": {
  "kernelspec": {
   "display_name": "Python 3",
   "language": "python",
   "name": "python3"
  },
  "language_info": {
   "codemirror_mode": {
    "name": "ipython",
    "version": 3
   },
   "file_extension": ".py",
   "mimetype": "text/x-python",
   "name": "python",
   "nbconvert_exporter": "python",
   "pygments_lexer": "ipython3",
   "version": "3.6.7"
  }
 },
 "nbformat": 4,
 "nbformat_minor": 2
}
