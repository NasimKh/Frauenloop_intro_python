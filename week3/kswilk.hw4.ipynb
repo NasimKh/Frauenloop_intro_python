{
 "cells": [
  {
   "cell_type": "markdown",
   "metadata": {},
   "source": [
    "## Stats701 Homework 4, Winter 2018¶\n",
    "### Objects, Classes and Methods\n",
    "### Katherine Wilkinson\n",
    "#### kswilk@umich.edu\n",
    "\n",
    "I discussed this homework with Sam Edds"
   ]
  },
  {
   "cell_type": "markdown",
   "metadata": {},
   "source": [
    "### 1. Still more fun with Vectors\n",
    "\n",
    "*Total time: ~6hrs*\n",
    "\n"
   ]
  },
  {
   "cell_type": "code",
   "execution_count": 1,
   "metadata": {
    "collapsed": true
   },
   "outputs": [],
   "source": [
    "## Question 1.1: Define Class Vector\n",
    "\n",
    "##Every vector should have a dimension (a non-negative integer)\n",
    "#and a list or tuple of its entries.\n",
    "\n",
    "class Vector:\n",
    "    '''Represents a vector\n",
    "    \n",
    "    attributes: dimension, list of entries'''\n",
    "    \n",
    "    def __init__(self, dimension= 0, values = tuple()):\n",
    "        \n",
    "        if type(dimension) != int:\n",
    "            raise TypeError('Dimension must be interger')\n",
    "        else:\n",
    "            if dimension < 0:\n",
    "                raise ValueError('Dimension must be > 0')\n",
    "            else:\n",
    "                self.dimension = dimension\n",
    "                \n",
    "        if len(values) == 0:\n",
    "            self.values = (0,)*dimension\n",
    "        else:\n",
    "            for v in values:\n",
    "            #if type(v)!= int and type(v)!= float:\n",
    "                if not isinstance(v,(float,int)):\n",
    "                    raise ValueError('Vector entries must be integer or float')\n",
    "            if len(values) != dimension:\n",
    "                raise ValueError('Length of entries must equal dimension')\n",
    "        \n",
    "            else:\n",
    "                self.values = values\n",
    "   \n",
    "    def __str__(self):\n",
    "        return('%d: %r' %(self.dimension, self.values))\n",
    "\n",
    "## Questions 1.4: Add dot method\n",
    "\n",
    "## Implement a method Vector.dot that takes a single Vector as its argument and\n",
    "## returns the inner product of the caller with the given Vector object.\n",
    "    \n",
    "    def dot(self, v2):\n",
    "        if type(v2) != Vector:\n",
    "            raise TypeError('Argument must be Vector')\n",
    "        elif len(v2.values) != len(self.values):\n",
    "            raise ValueError('Length of vectors does not match')\n",
    "        else:\n",
    "            prod = []\n",
    "            for i in range(0,len(self.values)):\n",
    "                for j in range(0, len(v2.values)):\n",
    "                    if i == j:\n",
    "                        prod.append(self.values[i]*v2.values[j])\n",
    "            s = float(sum(prod))\n",
    "        return(s)\n",
    "    \n",
    "\n",
    "## Questions 1.5: Add multiplication\n",
    "\n",
    "## We would also like our Vector class to support scalar multiplication\n",
    "\n",
    "    def __mul__(self, w):\n",
    "        \n",
    "        \n",
    "        if type(w) == int or type(w) == float:\n",
    "            v_new = []\n",
    "            for i in self.values:\n",
    "                v_new.append(i*w)\n",
    "            v_new = Vector(len(v_new),tuple(v_new))\n",
    "        if type(w) == Vector:\n",
    "            if len(w.values) != len(self.values):\n",
    "                raise ValueError('Vectors must be of same length for mult')\n",
    "            else:\n",
    "                prod = []\n",
    "                for i in range(0,len(self.values)):\n",
    "                    for j in range(0, len(w.values)):\n",
    "                        if i == j:\n",
    "                            prod.append(self.values[i]*w.values[j])\n",
    "                v_new = Vector(len(prod), tuple(prod))\n",
    "        return(v_new)\n",
    "\n",
    "##For ride side multiplication\n",
    "    def __rmul__(self,w):\n",
    "        return(self.__mul__(w))\n",
    "\n",
    "## Question 1.6: Add norm Method for p-norm of v\n",
    "## Implement a method Vector.norm that takes a single int or float p as an argument and\n",
    "## returns the p-norm of the calling Vector object.\n",
    "  \n",
    "    def norm(self, p):\n",
    "        if type(p) != float and type(p) != int:\n",
    "            raise TypeError('Argument must be float or integer')\n",
    "        vp = 0 \n",
    "        if p < 0:\n",
    "            raise ValueError('Argument must be > 0')\n",
    "        if p == 0:\n",
    "            \n",
    "            for i in self.values:\n",
    "                if i != 0:\n",
    "                    vp = vp + 1\n",
    "            return(vp)\n",
    "        elif p > 0 and p < float('Infinity'):\n",
    "            \n",
    "            for i in self.values:\n",
    "                vp = vp + (abs(i))**p\n",
    "            vp = vp**(1/p)\n",
    "            return(vp)\n",
    "        elif p == float('Infinity'):\n",
    "            abs_v = []\n",
    "            for j in self.values:\n",
    "                abs_v.append(abs(j))\n",
    "            vp = max(abs_v)\n",
    "            return(vp)\n",
    "            "
   ]
  },
  {
   "cell_type": "code",
   "execution_count": 2,
   "metadata": {
    "collapsed": false
   },
   "outputs": [
    {
     "name": "stdout",
     "output_type": "stream",
     "text": [
      "2: (-1, -2)\n",
      "5: (0, 0, 0, 0, 0)\n"
     ]
    }
   ],
   "source": [
    "## Check 1.1\n",
    "v = Vector(2,(-1,-2))\n",
    "v0 = Vector(5)\n",
    "print(v)\n",
    "print(v0)"
   ]
  },
  {
   "cell_type": "code",
   "execution_count": 3,
   "metadata": {
    "collapsed": true
   },
   "outputs": [],
   "source": [
    "v2 = Vector(2,(1,3))"
   ]
  },
  {
   "cell_type": "code",
   "execution_count": 4,
   "metadata": {
    "collapsed": false
   },
   "outputs": [
    {
     "data": {
      "text/plain": [
       "-7.0"
      ]
     },
     "execution_count": 4,
     "metadata": {},
     "output_type": "execute_result"
    }
   ],
   "source": [
    "## Check 1.4\n",
    "v.dot(v2)"
   ]
  },
  {
   "cell_type": "code",
   "execution_count": 5,
   "metadata": {
    "collapsed": false
   },
   "outputs": [
    {
     "name": "stdout",
     "output_type": "stream",
     "text": [
      "2: (-1, -6)\n"
     ]
    }
   ],
   "source": [
    "## Check 1.5\n",
    "print(v2*v)"
   ]
  },
  {
   "cell_type": "code",
   "execution_count": 6,
   "metadata": {
    "collapsed": false
   },
   "outputs": [
    {
     "data": {
      "text/plain": [
       "2.23606797749979"
      ]
     },
     "execution_count": 6,
     "metadata": {},
     "output_type": "execute_result"
    }
   ],
   "source": [
    "v.norm(2)\n"
   ]
  },
  {
   "cell_type": "code",
   "execution_count": 7,
   "metadata": {
    "collapsed": false
   },
   "outputs": [
    {
     "data": {
      "text/plain": [
       "2"
      ]
     },
     "execution_count": 7,
     "metadata": {},
     "output_type": "execute_result"
    }
   ],
   "source": [
    "v.norm(float('Infinity'))"
   ]
  },
  {
   "cell_type": "markdown",
   "metadata": {},
   "source": [
    "### 1.2\n",
    "*Did you choose to make the vector’s entries a tuple or a list (there is no wrong\n",
    "answer here, although I would say one is better than the other in this context)?\n",
    "Defend your choice*"
   ]
  },
  {
   "cell_type": "markdown",
   "metadata": {},
   "source": [
    "I chose to make the vector's entries a tuple. This is because tuples are immutable and less easily changed. Thus, they are less prone to user error and unwanted changes. "
   ]
  },
  {
   "cell_type": "markdown",
   "metadata": {},
   "source": [
    "### 1.3\n",
    "*Are the dimension and entries class attributes or instance attributes? Why is this\n",
    "the right design choice?*"
   ]
  },
  {
   "cell_type": "markdown",
   "metadata": {},
   "source": [
    "The dimension and class attributes are instance attributes since they change for every instance. This is the right desing choice because a user is theoretically going to create many vectors, all of varying dimensions and values. It makes more sense be able to change the dimension and entries for different instances rather than constantly changing the class itself whenever you want a new dimension or new values in your vector. "
   ]
  },
  {
   "cell_type": "markdown",
   "metadata": {},
   "source": [
    "### 2. Objects and Classes: Geometry Edition"
   ]
  },
  {
   "cell_type": "markdown",
   "metadata": {},
   "source": [
    "#### 2.1 \n",
    "Implement a class Point that represents a point in 2-dimensional\n",
    "Euclidean space. Your object should include an initialization method that takes two\n",
    "arguments (with sensibly-chosen default values)"
   ]
  },
  {
   "cell_type": "code",
   "execution_count": 8,
   "metadata": {
    "collapsed": true
   },
   "outputs": [],
   "source": [
    "class Point:\n",
    "    ''' Represents a 2-d Point.'''\n",
    "    \n",
    "    def __init__(self, x = 0, y = 0):\n",
    "        self.x = x\n",
    "        self.y = y\n",
    "    \n",
    "    def __str__(self):\n",
    "        return(('{} {}').format(self.x, self.y))"
   ]
  },
  {
   "cell_type": "code",
   "execution_count": 9,
   "metadata": {
    "collapsed": true
   },
   "outputs": [],
   "source": [
    "p = Point(1.5,2.4)"
   ]
  },
  {
   "cell_type": "code",
   "execution_count": 10,
   "metadata": {
    "collapsed": false
   },
   "outputs": [
    {
     "name": "stdout",
     "output_type": "stream",
     "text": [
      "1.5 2.4\n"
     ]
    }
   ],
   "source": [
    "print(p)"
   ]
  },
  {
   "cell_type": "markdown",
   "metadata": {},
   "source": [
    "#### 2.2\n",
    "Implement the necessary operator(s) to support comparison (equality, less than, less\n",
    "or equal to, greater than, etc) of Point objects. We will say that two Point objects\n",
    "are equivalent if they have the same x- and y-coordinates. Otherwise, comparison\n",
    "should be analogous to tuples in Python, so that comparison is done on x-coordinates\n",
    "first, and then on y-coordinates. So, for example, the point (2, 4) is ordered before\n",
    "(less than) (2, 5)."
   ]
  },
  {
   "cell_type": "code",
   "execution_count": 11,
   "metadata": {
    "collapsed": true
   },
   "outputs": [],
   "source": [
    "class Point:\n",
    "    ''' Represents a 2-d Point.'''\n",
    "    \n",
    "    def __init__(self, x = 0, y = 0):\n",
    "        self.x = x\n",
    "        self.y = y\n",
    "        \n",
    "    def __str__(self):\n",
    "        return(('{} {}').format(self.x, self.y))\n",
    "    \n",
    "    #Less than comparison\n",
    "    def __lt__(self, other):\n",
    "        t1 = (self.x, self.y)\n",
    "        t2 = (other.x, other.y)\n",
    "        return(t1 < t2)\n",
    "        \n",
    "    #Greater than comparison    \n",
    "    def __gt__(self, other):\n",
    "        return(other< self)\n",
    "    \n",
    "    #Equality Comparison\n",
    "    def __eq__(self,other):\n",
    "        return(self.x == other.x and self.y == other.y)"
   ]
  },
  {
   "cell_type": "code",
   "execution_count": 12,
   "metadata": {
    "collapsed": true
   },
   "outputs": [],
   "source": [
    "p = Point(2,1)"
   ]
  },
  {
   "cell_type": "code",
   "execution_count": 13,
   "metadata": {
    "collapsed": true
   },
   "outputs": [],
   "source": [
    "p2 = Point(1,2)"
   ]
  },
  {
   "cell_type": "code",
   "execution_count": 14,
   "metadata": {
    "collapsed": false
   },
   "outputs": [
    {
     "data": {
      "text/plain": [
       "False"
      ]
     },
     "execution_count": 14,
     "metadata": {},
     "output_type": "execute_result"
    }
   ],
   "source": [
    "p == p2"
   ]
  },
  {
   "cell_type": "markdown",
   "metadata": {},
   "source": [
    "#### 2.3 \n",
    "Implement the operator to allow addition of points. That is, if p1 and p2 are\n",
    "Point objects, then p1 + p2 should be supported, and should return the Point\n",
    "corresponding to adding p1 and p2 entrywise (i.e., vector addition)."
   ]
  },
  {
   "cell_type": "code",
   "execution_count": 58,
   "metadata": {
    "collapsed": true
   },
   "outputs": [],
   "source": [
    "class Point:\n",
    "    ''' Represents a 2-d Point.'''\n",
    "    \n",
    "    def __init__(self, x = 0.0, y = 0.0):\n",
    "        self.x =y \n",
    "        self.y = y\n",
    "        \n",
    "    def __str__(self):\n",
    "        return('{} {}'.format(self.x, self.y))\n",
    "        \n",
    "    \n",
    "    def __lt__(self, other):\n",
    "        t1 = (self.x, self.y)\n",
    "        t2 = (other.x, other.y)\n",
    "        return(t1 < t2)\n",
    "        \n",
    "    def __gt__(self, other):\n",
    "        return(other < self)\n",
    "        \n",
    "    def __eq__(self,other):\n",
    "        return(self.x == other.x and self.y == other.y)\n",
    "    \n",
    "    ##Add addition operator\n",
    "    def __add__(self, other):\n",
    "        if type(other) != Point:\n",
    "            raise TypeError('Arguments must be a 2-d point')\n",
    "        s1 = self.x + other.x\n",
    "        s2 = self.y + other.y\n",
    "        return(Point(s1, s2))"
   ]
  },
  {
   "cell_type": "code",
   "execution_count": null,
   "metadata": {
    "collapsed": true
   },
   "outputs": [],
   "source": [
    "def __str__(X , Y):\n",
    "        return('{} {}'.format(x, y))\n",
    "        \n"
   ]
  },
  {
   "cell_type": "code",
   "execution_count": 55,
   "metadata": {
    "collapsed": false
   },
   "outputs": [
    {
     "data": {
      "text/plain": [
       "<__main__.Point at 0x107249550>"
      ]
     },
     "execution_count": 55,
     "metadata": {},
     "output_type": "execute_result"
    }
   ],
   "source": [
    "p = Point(1.2,2.0)\n",
    "p"
   ]
  },
  {
   "cell_type": "code",
   "execution_count": 17,
   "metadata": {
    "collapsed": true
   },
   "outputs": [],
   "source": [
    "p2 = Point(2,3)"
   ]
  },
  {
   "cell_type": "code",
   "execution_count": 50,
   "metadata": {
    "collapsed": false
   },
   "outputs": [
    {
     "data": {
      "text/plain": [
       "False"
      ]
     },
     "execution_count": 50,
     "metadata": {},
     "output_type": "execute_result"
    }
   ],
   "source": [
    "p == p2 "
   ]
  },
  {
   "cell_type": "code",
   "execution_count": 56,
   "metadata": {
    "collapsed": false
   },
   "outputs": [
    {
     "data": {
      "text/plain": [
       "False"
      ]
     },
     "execution_count": 56,
     "metadata": {},
     "output_type": "execute_result"
    }
   ],
   "source": [
    "p > p2"
   ]
  },
  {
   "cell_type": "code",
   "execution_count": 57,
   "metadata": {
    "collapsed": false
   },
   "outputs": [
    {
     "ename": "TypeError",
     "evalue": "__init__() takes from 1 to 3 positional arguments but 4 were given",
     "output_type": "error",
     "traceback": [
      "\u001b[0;31m---------------------------------------------------------------------------\u001b[0m",
      "\u001b[0;31mTypeError\u001b[0m                                 Traceback (most recent call last)",
      "\u001b[0;32m<ipython-input-57-17ffd804b2dd>\u001b[0m in \u001b[0;36m<module>\u001b[0;34m()\u001b[0m\n\u001b[0;32m----> 1\u001b[0;31m \u001b[0mPoint\u001b[0m \u001b[0;34m(\u001b[0m\u001b[0;36m0\u001b[0m \u001b[0;34m,\u001b[0m \u001b[0;36m0\u001b[0m \u001b[0;34m,\u001b[0m \u001b[0;36m1\u001b[0m\u001b[0;34m)\u001b[0m\u001b[0;34m\u001b[0m\u001b[0;34m\u001b[0m\u001b[0m\n\u001b[0m",
      "\u001b[0;31mTypeError\u001b[0m: __init__() takes from 1 to 3 positional arguments but 4 were given"
     ]
    }
   ],
   "source": [
    "Point (0 , 0 , 1)"
   ]
  },
  {
   "cell_type": "code",
   "execution_count": 18,
   "metadata": {
    "collapsed": false
   },
   "outputs": [
    {
     "name": "stdout",
     "output_type": "stream",
     "text": [
      "3.2 5.0\n"
     ]
    }
   ],
   "source": [
    "print(p + p2)"
   ]
  },
  {
   "cell_type": "markdown",
   "metadata": {},
   "source": [
    "#### 2.4\n",
    "Implement a class Line that represents a line in the 2-dimensional Euclidean plane.\n",
    "Implement an initialization method that takes a slope and a y-intercept as its two\n",
    "arguments. There are, of course, any number of ways to represent a line, and you\n",
    "are free to choose among them as you like, though of course the slope-intercept\n",
    "representation is most natural given this initializer."
   ]
  },
  {
   "cell_type": "code",
   "execution_count": 19,
   "metadata": {
    "collapsed": true
   },
   "outputs": [],
   "source": [
    "class Line:\n",
    "    def __init__(self, slope = 0.0, yint = 0.0):\n",
    "        #slope of line\n",
    "        self.slope = slope\n",
    "        #y-intercept of line\n",
    "        self.yint = yint\n",
    "    \n",
    "    def __str__(self):\n",
    "        return('y = {}*x + {}'.format(self.slope, self.yint))"
   ]
  },
  {
   "cell_type": "code",
   "execution_count": 20,
   "metadata": {
    "collapsed": false
   },
   "outputs": [
    {
     "name": "stdout",
     "output_type": "stream",
     "text": [
      "y = 3.5*x + 2\n"
     ]
    }
   ],
   "source": [
    "l = Line(3.5,2)\n",
    "print(l)"
   ]
  },
  {
   "cell_type": "markdown",
   "metadata": {},
   "source": [
    "#### 2.5\n",
    "Implement a method Line.project that takes a Point object as its only argument\n",
    "and returns a Point object representing the projection of the argument Point object\n",
    "onto the line represented by the caller. Note: this method should create and return\n",
    "a new Point object rather than modifying the argument."
   ]
  },
  {
   "cell_type": "code",
   "execution_count": 21,
   "metadata": {
    "collapsed": true
   },
   "outputs": [],
   "source": [
    "class Line:\n",
    "    def __init__(self, slope = 0.0, yint = 0.0):\n",
    "        self.slope = slope\n",
    "        self.yint = yint\n",
    "    \n",
    "    def __str__(self):\n",
    "        return('y = {}*x + {}'.format(self.slope, self.yint))\n",
    "    \n",
    "    def project(self, point):\n",
    "        if type(point) != Point:\n",
    "            raise TypeError('Argument must be Point')\n",
    "        \n",
    "        #Find intercept of orthogonal line with given point\n",
    "        yint2 = point.y - (-(1/(self.slope)))*point.x\n",
    "                        \n",
    "        #Get x and y of intersection\n",
    "        x_new = (yint2 - self.yint) / (self.slope - (-(1/(self.slope))))\n",
    "        \n",
    "        y_new = self.slope * x_new + self.yint\n",
    "        \n",
    "        #put x and y into point\n",
    "        p_new = Point(x_new, y_new)\n",
    "        return(p_new)\n",
    "        "
   ]
  },
  {
   "cell_type": "code",
   "execution_count": 22,
   "metadata": {
    "collapsed": true
   },
   "outputs": [],
   "source": [
    "l = Line(-1/2,4)\n",
    "p = Point(2,9)"
   ]
  },
  {
   "cell_type": "code",
   "execution_count": 23,
   "metadata": {
    "collapsed": false
   },
   "outputs": [
    {
     "name": "stdout",
     "output_type": "stream",
     "text": [
      "-0.4 4.2\n"
     ]
    }
   ],
   "source": [
    "print(l.project(p))"
   ]
  },
  {
   "cell_type": "markdown",
   "metadata": {},
   "source": [
    "### 3. Objects and Inheritance\n"
   ]
  },
  {
   "cell_type": "markdown",
   "metadata": {},
   "source": [
    "#### 3.1\n",
    "For starters, we can’t have a bibliography without authors. Define a class Author,with the following attributes:\n",
    "\n",
    "    (a) given_name, a string representing the given name (i.e., first name in English) of the author.\n",
    "\n",
    "    (b) family_name, a string representing the family name (i.e., last name in English) of the author.\n",
    "\n",
    "    (c) author_id, an integer that will uniquely identify this author (and thus avoid the problem of being unable to tell apart two or more authors named John Smith.)\n",
    "    \n",
    "Write an initializer for this class that takes a first and last name as its arguments. These should both default to None. Your class should include a class attribute\n",
    "called next_id, which is an integer, and is initially zero. Upon initialization of a new Author object, the new object’s author_id attribute should be taken to be the\n",
    "current value of next_id, and then the class attribute should be incremented so that\n",
    "the next ID we give out is distinct."
   ]
  },
  {
   "cell_type": "code",
   "execution_count": 24,
   "metadata": {
    "collapsed": true
   },
   "outputs": [],
   "source": [
    "class Author:\n",
    "    next_id = 0\n",
    "    def __init__(self, given_name = None, family_name = None):\n",
    "        self.given_name = given_name\n",
    "        self.family_name = family_name\n",
    "        self.author_id = Author.next_id\n",
    "        self.__class__.next_id += 1\n"
   ]
  },
  {
   "cell_type": "markdown",
   "metadata": {},
   "source": [
    "#### 3.2\n",
    "Implement the __str__ operator for the Author method. The string representation\n",
    "of an author with first name John and last name Smith should be ’Smith, J.’.\n",
    "That is, the string format should be the family name, followed by first initial. You\n",
    "may assume that all authors have only a first and last name, so that for our purposes,\n",
    "Richard W. Hamming is simply named Richard Hamming."
   ]
  },
  {
   "cell_type": "code",
   "execution_count": 47,
   "metadata": {
    "collapsed": false
   },
   "outputs": [],
   "source": [
    "class Author:\n",
    "    next_id = 0\n",
    "    def __init__(self, Age, given_name = None, family_name = None   ):\n",
    "        self.Age = Age\n",
    "        self.given_name = given_name\n",
    "        self.family_name = family_name\n",
    "        self.author_id = Author.next_id\n",
    "        self.__class__.next_id += 1\n",
    "        \n",
    "    \n",
    "    def __str__(self):\n",
    "        return(('{}, {}.').format(self.family_name, self.given_name[0]))\n",
    "    \n",
    "    def __add__(self,other):\n",
    "        return self.Age + other.Age\n",
    "  "
   ]
  },
  {
   "cell_type": "code",
   "execution_count": 48,
   "metadata": {
    "collapsed": true
   },
   "outputs": [],
   "source": [
    "a = Author (15 , 'Robert' , 'R')\n",
    "b = Author (25 , 'John' , 'cre')"
   ]
  },
  {
   "cell_type": "code",
   "execution_count": 49,
   "metadata": {
    "collapsed": false
   },
   "outputs": [
    {
     "data": {
      "text/plain": [
       "40"
      ]
     },
     "execution_count": 49,
     "metadata": {},
     "output_type": "execute_result"
    }
   ],
   "source": [
    "a + b"
   ]
  },
  {
   "cell_type": "markdown",
   "metadata": {},
   "source": [
    "#### 3.3\n",
    "The basic unit of a bibliography is a document. For our purposes, we will assume\n",
    "that every document has an author, a title and a year of publication. Define a class\n",
    "Document, with the following attributes:\n",
    "\n",
    "    (a) author, a list of Author objects.\n",
    "    (b) title, a string.\n",
    "    (c) year, an integer representing a year in the Gregorian calendar.\n",
    "Implement an initializer for this object, which takes a list of authors, title and year\n",
    "as its three arguments, in that order. The author list should default to the empty\n",
    "list, and the other two arguments should default to None."
   ]
  },
  {
   "cell_type": "code",
   "execution_count": 27,
   "metadata": {
    "collapsed": true
   },
   "outputs": [],
   "source": [
    "class Document:\n",
    "    def __init__(self, author=[], title=None, year=None):\n",
    "        if len(author) != 0:\n",
    "            for i in author:\n",
    "                if type(i) != Author:\n",
    "                    raise TypeError('author must be of Author type')\n",
    "        self.author = author\n",
    "        self.title = title\n",
    "        self.year = year"
   ]
  },
  {
   "cell_type": "markdown",
   "metadata": {},
   "source": [
    "#### 3.4\n",
    "Implement the __str__ operator for the Document class. The string representation\n",
    "for a document titled Principia by author named Isaac Newton in the year\n",
    "1687 should be: ’Newton, I. (1687). Principia.’ If there is more than one\n",
    "author in a document, they should be listed in the order that they are listed in the\n",
    "document, separated by the word “and”. "
   ]
  },
  {
   "cell_type": "code",
   "execution_count": 28,
   "metadata": {
    "collapsed": true
   },
   "outputs": [],
   "source": [
    "class Document:\n",
    "    def __init__(self, author=[], title=None, year=None):\n",
    "        if len(author) != 0:\n",
    "            for i in author:\n",
    "                if type(i) != Author:\n",
    "                    raise TypeError('author must be of Author type')\n",
    "        self.author = author\n",
    "        self.title = title\n",
    "        self.year = year\n",
    "    \n",
    "    def __str__(self):\n",
    "        if len(self.author) == 0 :\n",
    "            raise ValueError('Document must have Author')\n",
    "        if self.title == None:\n",
    "            raise ValueError('Document must have Title')\n",
    "        if self.year == None:\n",
    "            raise ValueError('Document must have Year')\n",
    "        p_a = []\n",
    "        for i in self.author:\n",
    "            \n",
    "            p_a.append(('{}, {}.').format(i.family_name, i.given_name[0]))\n",
    "           \n",
    "        a_bib = ' and '.join(p_a)\n",
    "            \n",
    "        bib = (('{} ({}). {}.').format(a_bib, self.year, self.title))\n",
    "        return(bib)\n",
    "        \n",
    "   "
   ]
  },
  {
   "cell_type": "code",
   "execution_count": 29,
   "metadata": {
    "collapsed": false
   },
   "outputs": [
    {
     "name": "stdout",
     "output_type": "stream",
     "text": [
      "Jordan, R. and Sanderson, B. (2009). The Gathering Storm.\n"
     ]
    }
   ],
   "source": [
    "d1 = Document([Author('Robert','Jordan'),Author('Brandon','Sanderson')],'The Gathering Storm',2009)\n",
    "print(d1)"
   ]
  },
  {
   "cell_type": "markdown",
   "metadata": {},
   "source": [
    "#### 3.5\n",
    "Implement a class Book that inherits from Document, but has an additional attribute\n",
    "publisher, a string naming a publishing house. Override the initializer to now take\n",
    "four arguments, the fourth being the string representing the publisher, and the first\n",
    "three being in the same order as for the Document initializer. Override the __str__\n",
    "method to print the same formatted string, but with the publisher name added to\n",
    "the end. So, in the example above, if Principia Mathematica were published by\n",
    "Cambridge University Press, then the string representation would be *’Whitehead, A.\n",
    "and Russell, B. (1910). Principia Mathematica. Cambridge University Press.’* ."
   ]
  },
  {
   "cell_type": "code",
   "execution_count": 30,
   "metadata": {
    "collapsed": true
   },
   "outputs": [],
   "source": [
    "class Book(Document):\n",
    "    def __init__(self, author = [], title = None, year = None, publisher = None):\n",
    "        if len(author) != 0:\n",
    "            for i in author:\n",
    "                if type(i) != Author:\n",
    "                    raise TypeError('author must be of Author type')    \n",
    "        self.author = author\n",
    "        self.title = title\n",
    "        self.year = year\n",
    "        self.publisher = publisher\n",
    "        \n",
    "    def __str__(self):\n",
    "        if len(self.author) == 0 :\n",
    "            raise ValueError('Document must have Author')\n",
    "        if self.title == None:\n",
    "            raise ValueError('Document must have Title')\n",
    "        if self.year == None:\n",
    "            raise ValueError('Document must have Year')\n",
    "        if self.publisher == None:\n",
    "            raise ValueError('Document must have Publisher')\n",
    "        p_a = []\n",
    "        for i in self.author:\n",
    "            \n",
    "            p_a.append(('{}, {}.').format(i.family_name, i.given_name[0]))\n",
    "           \n",
    "        a_bib = ' and '.join(p_a)\n",
    "            \n",
    "        bib = (('{} ({}). {}. {}.').format(a_bib, self.year, self.title, self.publisher))\n",
    "        return(bib)\n",
    "        \n"
   ]
  },
  {
   "cell_type": "code",
   "execution_count": 31,
   "metadata": {
    "collapsed": false
   },
   "outputs": [
    {
     "name": "stdout",
     "output_type": "stream",
     "text": [
      "Whitehead, A. and Russell, B. (1910). Principia Mathematica. Cambridge University Press.\n"
     ]
    }
   ],
   "source": [
    "d2 = Book([Author('Alfred', 'Whitehead'),Author('Betrand','Russell')],\n",
    "     'Principia Mathematica',1910,'Cambridge University Press')\n",
    "print(d2)"
   ]
  },
  {
   "cell_type": "code",
   "execution_count": null,
   "metadata": {
    "collapsed": true
   },
   "outputs": [],
   "source": [
    "Class : Zoo , ( color , num_leg)\n",
    "    \n",
    "2 Animals \n",
    "method : compare if  these are  the same animals "
   ]
  },
  {
   "cell_type": "code",
   "execution_count": 67,
   "metadata": {
    "collapsed": false
   },
   "outputs": [
    {
     "ename": "SyntaxError",
     "evalue": "invalid syntax (<ipython-input-67-f312b6b831a3>, line 7)",
     "output_type": "error",
     "traceback": [
      "\u001b[0;36m  File \u001b[0;32m\"<ipython-input-67-f312b6b831a3>\"\u001b[0;36m, line \u001b[0;32m7\u001b[0m\n\u001b[0;31m    if self.color == other.color & self.name == other.name & self.legs == other.legs\u001b[0m\n\u001b[0m                                                                                      ^\u001b[0m\n\u001b[0;31mSyntaxError\u001b[0m\u001b[0;31m:\u001b[0m invalid syntax\n"
     ]
    }
   ],
   "source": [
    "class zoo :\n",
    "    def __init__(self,name,color,legs):\n",
    "        self.name=name \n",
    "        self.color=color\n",
    "        self.legs=legs\n",
    "    def __eq__(self , other ) :\n",
    "        if self.color == other.color & self.name == other.name & self.legs == other.legs  \n",
    "            return "
   ]
  },
  {
   "cell_type": "code",
   "execution_count": 62,
   "metadata": {
    "collapsed": true
   },
   "outputs": [],
   "source": [
    "animal1= zoo('cat',\"black\",4)"
   ]
  },
  {
   "cell_type": "code",
   "execution_count": 63,
   "metadata": {
    "collapsed": false
   },
   "outputs": [],
   "source": [
    "animal2= zoo(\"Parrot\",\"Green\",2)\n"
   ]
  },
  {
   "cell_type": "code",
   "execution_count": 64,
   "metadata": {
    "collapsed": false
   },
   "outputs": [
    {
     "data": {
      "text/plain": [
       "'black'"
      ]
     },
     "execution_count": 64,
     "metadata": {},
     "output_type": "execute_result"
    }
   ],
   "source": [
    "animal1.color"
   ]
  },
  {
   "cell_type": "code",
   "execution_count": null,
   "metadata": {
    "collapsed": true
   },
   "outputs": [],
   "source": []
  }
 ],
 "metadata": {
  "kernelspec": {
   "display_name": "Python 3",
   "language": "python",
   "name": "python3"
  },
  "language_info": {
   "codemirror_mode": {
    "name": "ipython",
    "version": 3
   },
   "file_extension": ".py",
   "mimetype": "text/x-python",
   "name": "python",
   "nbconvert_exporter": "python",
   "pygments_lexer": "ipython3",
   "version": "3.6.7"
  }
 },
 "nbformat": 4,
 "nbformat_minor": 2
}
