{
 "cells": [
  {
   "cell_type": "markdown",
   "metadata": {},
   "source": [
    "Hello Frauenloopians , \n",
    "\n",
    "Since we learned about the classes on monday we would like to do a movie database using classes . This would be something like movie data from imdb \n",
    "\n"
   ]
  },
  {
   "cell_type": "markdown",
   "metadata": {},
   "source": [
    "1. Create a class  movie that has the following attributes : if you are using python put this in ints own movie.py file.\n",
    "   \n",
    "Atrributes : \n",
    "title, year, director, rating, genres ,country\n",
    "   \n",
    "   \n",
    "Methods : \n",
    " __str__ method :ur movie name : director followed by year has to be shown. see example :\n",
    "                         titanic , James Cameron , 1997\n",
    "   \n",
    " __lt__ method :should show if the movie is made before another movie.\n",
    "   \n",
    " __gt__ method : if one movie is newer that the other movie.\n",
    " \n",
    " __eq__ method : if movie has the same director as the other.  \n",
    "   \n",
    " set_rate method : if the movie has no rating it should allow the user to set a rating.          "
   ]
  },
  {
   "cell_type": "markdown",
   "metadata": {},
   "source": [
    "2.Create a database for movies that has the following attributes :\n",
    "if you are using python put this in ints own databse.py file.\n",
    "\n",
    "    movie ( the above class)\n",
    "    movie_key or index ( it has to be updated everytime a movie being added or deleted)\n",
    "    \n",
    "    Methods :\n",
    "        add_movie ( adds a movie to database)\n",
    "        delete_movie\n",
    "        get_movie (using the index or movie_key) \n",
    "        get_movie (using any of attributes of movie such as title, year, director, rating, genres ,country)\n",
    "        get_best_movie(Gets the movies with rating four stars or higher)\n",
    "        \n",
    "        "
   ]
  },
  {
   "cell_type": "code",
   "execution_count": null,
   "metadata": {
    "collapsed": true
   },
   "outputs": [],
   "source": [
    "class Database:\n",
    "    def __init__('add parameter'):\n",
    "        'fill your code here '\n",
    "        \n",
    "    def add_movie('add parameter'):\n",
    "        'fill your code here '\n",
    "\n",
    "    def delete_movie('add parameter'):\n",
    "        'fill your code here '\n",
    "\n",
    "    def get_movie('add parameter'):\n",
    "        'fill your code here '\n",
    "\n",
    "    def get_movies('add parameter'):\n",
    "        'fill your code here '\n",
    "        \n",
    "    def get_best_movie('add parameter'):\n",
    "        'fill your code here '"
   ]
  },
  {
   "cell_type": "markdown",
   "metadata": {},
   "source": [
    "Choose your 10 fav movies and add them to the database :\n",
    "    A list of movies can be found at :\n",
    "        https://gist.github.com/tiangechen/b68782efa49a16edaf07dc2cdaa855ea\n",
    "\n"
   ]
  },
  {
   "cell_type": "markdown",
   "metadata": {},
   "source": [
    "Deadline as last time sunday at midnight. You can submit your python files\n",
    "and/or jupyter files to canvas. "
   ]
  },
  {
   "cell_type": "code",
   "execution_count": 138,
   "metadata": {
    "collapsed": true
   },
   "outputs": [],
   "source": [
    "# Soultion \n",
    "class Movie:\n",
    "    def __init__(self,title, year, director, rating, genres ,country):\n",
    "        self.title = title\n",
    "        self.year = year\n",
    "        self.director = director\n",
    "        self.rating = rating\n",
    "        self.genres = genres\n",
    "        self.country = country\n",
    "        \n",
    "    def __str__(self):\n",
    "        return \"{},{},{}\".format(self.title,self.director,self.year)\n",
    "    def __lt__(self,other):\n",
    "\n",
    "        return self.year<other.year\n",
    "    def __gt__(self,other):\n",
    "        return self.year>other.year\n",
    "    def __eq__(self,other):\n",
    "        return self.director == other.director\n",
    "    \n",
    "    def set_rate(self):\n",
    "        \"\"\"\n",
    "         If rating is None, gives possibility to set up\n",
    "        \"\"\"\n",
    "        if self.rating == None:\n",
    "            a = float(input('please input a rate for {} '.format(self.title)))\n",
    "            self.rating = a\n"
   ]
  },
  {
   "cell_type": "code",
   "execution_count": 140,
   "metadata": {
    "collapsed": false
   },
   "outputs": [],
   "source": [
    "titanic = Movies('Titanic',1997,'James Cameron',7.8,'Drama','USA')\n",
    "avatar = Movies('Avatar',2009,'James Cameron',7.8,'Action','USA')\n",
    "mulan = Movies('Mulan',2020,'Niki Caro',None,'Action','UK')\n",
    "boys = Movies('The Boys',2019,'Eric Kripke',8.7,'Crime','UK')\n",
    "godfather = Movies('The Godfather',1972,'Francis Ford Coppola',9.1,'Action','USA')\n",
    "pulpfiction = Movies('Pulp Fiction',1994,'Quentin Tarantino',8.8,'Crime','USA')\n",
    "django = Movies('Diango Unchained',2012,'Quentin Tarantino',None,'Drama','USA')\n",
    "killbill = Movies('Kill Bill',2003,'Quentin Tarantino',8.1,'Crime','USA')\n",
    "joker = Movies('Joker',2019,'Todd Phillips',8.5,'Crime','UK')\n",
    "interstellar = Movies('Interstellar',2014,'Christopher Nolan',8.6,'Adventure','UK')\n"
   ]
  },
  {
   "cell_type": "code",
   "execution_count": 47,
   "metadata": {
    "collapsed": false
   },
   "outputs": [
    {
     "data": {
      "text/plain": [
       "'Titanic,James Cameron,1997'"
      ]
     },
     "execution_count": 47,
     "metadata": {},
     "output_type": "execute_result"
    }
   ],
   "source": [
    "str(titanic)"
   ]
  },
  {
   "cell_type": "code",
   "execution_count": 48,
   "metadata": {
    "collapsed": false
   },
   "outputs": [
    {
     "data": {
      "text/plain": [
       "True"
      ]
     },
     "execution_count": 48,
     "metadata": {},
     "output_type": "execute_result"
    }
   ],
   "source": [
    "django == killbill"
   ]
  },
  {
   "cell_type": "code",
   "execution_count": 49,
   "metadata": {
    "collapsed": false
   },
   "outputs": [
    {
     "data": {
      "text/plain": [
       "True"
      ]
     },
     "execution_count": 49,
     "metadata": {},
     "output_type": "execute_result"
    }
   ],
   "source": [
    "django > killbill"
   ]
  },
  {
   "cell_type": "code",
   "execution_count": 120,
   "metadata": {
    "collapsed": false
   },
   "outputs": [],
   "source": [
    "db = Database([titanic,django])"
   ]
  },
  {
   "cell_type": "code",
   "execution_count": 151,
   "metadata": {
    "collapsed": false
   },
   "outputs": [],
   "source": [
    "\n",
    "\n",
    "class Database:\n",
    "    def __init__(self):\n",
    "        self.movies = {}\n",
    "        self._last_movie_key = 0\n",
    "\n",
    "    def add_movie(self, movie):\n",
    "        self._last_movie_key += 1\n",
    "        self.movies[self._last_movie_key] = movie\n",
    "        return self._last_movie_key\n",
    "\n",
    "    def delete_movie(self, movie_key):\n",
    "        if movie_key in self.movies:\n",
    "            del self.movies[movie_key]\n",
    "\n",
    "    def get_movie(self, movie_key):\n",
    "        movie = self.movies.get(movie_key)\n",
    "        if movie is None:\n",
    "            return None\n",
    "        movie_ = Movie(movie.title, movie.year ,movie.director, movie.rating, movie.genres ,movie.country )\n",
    "        return movie_\n",
    "\n",
    "    def get_movies(self):\n",
    "        movies = []\n",
    "        for movie_key, movie in self.movies.items():\n",
    "            movie_ = Movie(movie.title, movie.year ,movie.director, movie.rating, movie.genres ,movie.country )\n",
    "            movies.append((movie_key, movie_))\n",
    "        return movies"
   ]
  },
  {
   "cell_type": "code",
   "execution_count": 152,
   "metadata": {
    "collapsed": false
   },
   "outputs": [
    {
     "data": {
      "text/plain": [
       "2"
      ]
     },
     "execution_count": 152,
     "metadata": {},
     "output_type": "execute_result"
    }
   ],
   "source": [
    "db = Database()\n",
    "db.add_movie(titanic)\n",
    "db.add_movie(django)"
   ]
  },
  {
   "cell_type": "code",
   "execution_count": 162,
   "metadata": {
    "collapsed": false
   },
   "outputs": [
    {
     "data": {
      "text/plain": [
       "[(1, <__main__.Movie at 0x10dec3080>), (2, <__main__.Movie at 0x10dec39b0>)]"
      ]
     },
     "execution_count": 162,
     "metadata": {},
     "output_type": "execute_result"
    }
   ],
   "source": [
    "db.get_movies() "
   ]
  },
  {
   "cell_type": "code",
   "execution_count": 172,
   "metadata": {
    "collapsed": false
   },
   "outputs": [
    {
     "data": {
      "text/plain": [
       "'Diango Unchained'"
      ]
     },
     "execution_count": 172,
     "metadata": {},
     "output_type": "execute_result"
    }
   ],
   "source": [
    "db.get_movies()[(1)][1].title"
   ]
  },
  {
   "cell_type": "code",
   "execution_count": 178,
   "metadata": {
    "collapsed": false
   },
   "outputs": [],
   "source": [
    "db.delete_movie(1)"
   ]
  },
  {
   "cell_type": "code",
   "execution_count": 179,
   "metadata": {
    "collapsed": false
   },
   "outputs": [
    {
     "data": {
      "text/plain": [
       "[(2, <__main__.Movie at 0x10de81438>)]"
      ]
     },
     "execution_count": 179,
     "metadata": {},
     "output_type": "execute_result"
    }
   ],
   "source": [
    "db.get_movies() "
   ]
  },
  {
   "cell_type": "code",
   "execution_count": null,
   "metadata": {
    "collapsed": true
   },
   "outputs": [],
   "source": []
  },
  {
   "cell_type": "code",
   "execution_count": null,
   "metadata": {
    "collapsed": true
   },
   "outputs": [],
   "source": []
  },
  {
   "cell_type": "code",
   "execution_count": null,
   "metadata": {
    "collapsed": true
   },
   "outputs": [],
   "source": []
  }
 ],
 "metadata": {
  "kernelspec": {
   "display_name": "Python 3",
   "language": "python",
   "name": "python3"
  },
  "language_info": {
   "codemirror_mode": {
    "name": "ipython",
    "version": 3
   },
   "file_extension": ".py",
   "mimetype": "text/x-python",
   "name": "python",
   "nbconvert_exporter": "python",
   "pygments_lexer": "ipython3",
   "version": "3.6.7"
  }
 },
 "nbformat": 4,
 "nbformat_minor": 2
}
