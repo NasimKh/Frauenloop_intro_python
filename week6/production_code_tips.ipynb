{
 "cells": [
  {
   "cell_type": "markdown",
   "metadata": {},
   "source": [
    "# How to write clean code ?\n"
   ]
  },
  {
   "cell_type": "markdown",
   "metadata": {},
   "source": [
    "1. What is clean code ?\n",
    "Discussion : \n",
    "    "
   ]
  },
  {
   "cell_type": "markdown",
   "metadata": {},
   "source": []
  },
  {
   "cell_type": "markdown",
   "metadata": {},
   "source": []
  },
  {
   "cell_type": "markdown",
   "metadata": {},
   "source": []
  },
  {
   "cell_type": "markdown",
   "metadata": {},
   "source": [
    "Clean code is a code that is undrestandable by everyone in team. Clean code can be undrestood and changed and added to by anyone working in the team . Clean code is **readable, simple and consice**.  "
   ]
  },
  {
   "cell_type": "markdown",
   "metadata": {},
   "source": [
    "# How ? \n",
    "* Naming \n",
    " 1. Use meaningful names( Descriptive)( also helps to make it readable) for your variables function. Remember ( long names != descriptive names)\n",
    " 2. Be Consistent. \n",
    " 3. clearely diffrentiate\n",
    " 4. when possible avoid abbrevation and single letter\n",
    "    \n",
    "* White space \n",
    "    1. use white space to make your code into blocks and organize it and astetically pleasing. \n",
    "    2. use space between paranthesis.\n",
    "    3. Pep8 style guide recommends to keep your lines upto 79 characters. "
   ]
  },
  {
   "cell_type": "code",
   "execution_count": null,
   "metadata": {
    "collapsed": true
   },
   "outputs": [],
   "source": []
  },
  {
   "cell_type": "code",
   "execution_count": 3,
   "metadata": {
    "collapsed": true
   },
   "outputs": [],
   "source": [
    "# is this good or bad ?\n",
    "import datetime\n",
    "\n",
    "\n",
    "ymdstr = datetime.date.today().strftime(\"%y-%m-%d\")"
   ]
  },
  {
   "cell_type": "code",
   "execution_count": 6,
   "metadata": {
    "collapsed": true
   },
   "outputs": [],
   "source": [
    "current_date: str = datetime.date.today().strftime(\"%y-%m-%d\")\n",
    "# the : str is showing the type aliases : \n",
    "# https://docs.python.org/3/library/typing.html"
   ]
  },
  {
   "cell_type": "code",
   "execution_count": 7,
   "metadata": {
    "collapsed": false
   },
   "outputs": [
    {
     "data": {
      "text/plain": [
       "'20-10-12'"
      ]
     },
     "execution_count": 7,
     "metadata": {},
     "output_type": "execute_result"
    }
   ],
   "source": [
    "current_date"
   ]
  },
  {
   "cell_type": "markdown",
   "metadata": {},
   "source": [
    "* BE CONSISTENT "
   ]
  },
  {
   "cell_type": "code",
   "execution_count": null,
   "metadata": {
    "collapsed": true
   },
   "outputs": [],
   "source": [
    "# good or bad ?\n",
    "def get_user_info(): pass\n",
    "def get_client_data(): pass\n",
    "def get_customer_record(): pass"
   ]
  },
  {
   "cell_type": "code",
   "execution_count": null,
   "metadata": {
    "collapsed": true
   },
   "outputs": [],
   "source": [
    "# better ?"
   ]
  },
  {
   "cell_type": "code",
   "execution_count": null,
   "metadata": {
    "collapsed": true
   },
   "outputs": [],
   "source": [
    "# best ?\n",
    "class User:\n",
    "    info : str\n",
    "    \n",
    "    def get_info(self):\n",
    "        pass \n",
    "    \n",
    "    def get_data(self):\n",
    "        pass \n",
    "\n",
    "    def get_record(self):\n",
    "        pass \n",
    "    \n",
    "   "
   ]
  },
  {
   "cell_type": "markdown",
   "metadata": {},
   "source": [
    "* clearely diffrentiate\n",
    "\n",
    "age and ages , or age and age_list"
   ]
  },
  {
   "cell_type": "code",
   "execution_count": null,
   "metadata": {
    "collapsed": true
   },
   "outputs": [],
   "source": []
  },
  {
   "cell_type": "markdown",
   "metadata": {},
   "source": [
    "* when possible avoid abbrevation and single letter\n",
    "\n"
   ]
  },
  {
   "cell_type": "code",
   "execution_count": null,
   "metadata": {
    "collapsed": true
   },
   "outputs": [],
   "source": [
    "\n",
    "a = 86400\n",
    "\n",
    "secDay = 86400\n",
    "seconds_in_day = 24 * 60 * 60"
   ]
  },
  {
   "cell_type": "markdown",
   "metadata": {},
   "source": [
    "*  Use searchable names"
   ]
  },
  {
   "cell_type": "code",
   "execution_count": 16,
   "metadata": {
    "collapsed": false
   },
   "outputs": [],
   "source": [
    "# don't run takes a day\n",
    "#import time\n",
    "if False : \n",
    "    time.sleep(86400)\n",
    "\n",
    "    time.sleep(seconds_in_day)"
   ]
  },
  {
   "cell_type": "code",
   "execution_count": null,
   "metadata": {
    "collapsed": true
   },
   "outputs": [],
   "source": [
    "# use blancspace to organize your code "
   ]
  },
  {
   "cell_type": "code",
   "execution_count": 18,
   "metadata": {
    "collapsed": true
   },
   "outputs": [],
   "source": [
    "def is_leap(year):leap = False\n",
    "    if (year%4== 0)and(year%100!=0):leap=True\n",
    "    elif(year%100 ==0)and(year%400!= 0):leap=False\n",
    "    elif(year%400==0):leap = True\n",
    "    else:leap=False\n",
    "        return leap"
   ]
  },
  {
   "cell_type": "code",
   "execution_count": null,
   "metadata": {
    "collapsed": true
   },
   "outputs": [],
   "source": []
  },
  {
   "cell_type": "code",
   "execution_count": null,
   "metadata": {
    "collapsed": true
   },
   "outputs": [],
   "source": []
  },
  {
   "cell_type": "code",
   "execution_count": null,
   "metadata": {
    "collapsed": true
   },
   "outputs": [],
   "source": []
  },
  {
   "cell_type": "code",
   "execution_count": null,
   "metadata": {
    "collapsed": true
   },
   "outputs": [],
   "source": [
    "def is_leap(year):\n",
    "    '''Calculates if a year is a leap year or not \n",
    "    arg : year\n",
    "    \n",
    "    ----- \n",
    "    returns True/False\n",
    "        '''\n",
    "    leap = False\n",
    "    \n",
    "    if (year % 4 == 0) and (year % 100 != 0):\n",
    "        # Note that in your code the condition will be true if it is not..\n",
    "        leap = True\n",
    "        \n",
    "    elif (year % 100 == 0) and (year % 400 != 0):\n",
    "        leap = False\n",
    "        \n",
    "    elif (year % 400 == 0):\n",
    "        leap = True\n",
    "        \n",
    "    else:\n",
    "        leap = False\n",
    "        return leap"
   ]
  },
  {
   "cell_type": "code",
   "execution_count": null,
   "metadata": {
    "collapsed": true
   },
   "outputs": [],
   "source": [
    "# what can be done better here ?\n",
    "t = end_time - start  # compute execution time\n",
    "c = category(t)  # get category of task\n",
    "print('Task Duration: {} seconds, Category: {}'.format(t, c)"
   ]
  },
  {
   "cell_type": "code",
   "execution_count": null,
   "metadata": {
    "collapsed": true
   },
   "outputs": [],
   "source": [
    "# what can be done better here ?\n",
    "stock_limit_prices = {'LUX': 62.48, 'AAPL': 127.67, 'NVDA': 161.24}\n",
    "for stock_ticker, stock_limit_price in buy_prices.items():\n",
    "    if stock_limit_price <= get_current_stock_price(ticker):\n",
    "        buy_stock(ticker)\n",
    "    else:\n",
    "        watchlist_stock(ticker)"
   ]
  },
  {
   "cell_type": "markdown",
   "metadata": {},
   "source": [
    " # what is modular Code ?\n",
    " \n",
    "    Discussion : "
   ]
  },
  {
   "cell_type": "code",
   "execution_count": null,
   "metadata": {
    "collapsed": true
   },
   "outputs": [],
   "source": []
  },
  {
   "cell_type": "code",
   "execution_count": null,
   "metadata": {
    "collapsed": true
   },
   "outputs": [],
   "source": []
  },
  {
   "cell_type": "code",
   "execution_count": null,
   "metadata": {
    "collapsed": true
   },
   "outputs": [],
   "source": []
  },
  {
   "cell_type": "markdown",
   "metadata": {},
   "source": [
    "* A code that has been broken into functions and modules. \n",
    "* what is module ?In it's simplest way a module is a file with the code in it. \n",
    "\n",
    "* A production code is reusable , efficent and organized. "
   ]
  },
  {
   "cell_type": "markdown",
   "metadata": {},
   "source": [
    "# How ? \n",
    " 1. DRY (Don't Repeat Yourself) \n",
    " 2. KISS ( Keep It Simple Stupid ) \n",
    " 4. Minimize the number of entities (functions, classes, modules, etc.)\n",
    " 5. Arbitrary variable names can be more effective in certain functions\n",
    " 3. Functions should do one thing.\n",
    " 6. No more than three arguments per function.\n",
    " 7. Functions should have no side effect. \n",
    " \n",
    " "
   ]
  },
  {
   "cell_type": "markdown",
   "metadata": {},
   "source": [
    "# Refactored code : \n",
    " \n",
    " discussion :"
   ]
  },
  {
   "cell_type": "code",
   "execution_count": null,
   "metadata": {
    "collapsed": true
   },
   "outputs": [],
   "source": []
  },
  {
   "cell_type": "code",
   "execution_count": null,
   "metadata": {
    "collapsed": true
   },
   "outputs": [],
   "source": []
  },
  {
   "cell_type": "code",
   "execution_count": null,
   "metadata": {
    "collapsed": true
   },
   "outputs": [],
   "source": []
  },
  {
   "cell_type": "markdown",
   "metadata": {},
   "source": [
    "When you first have an idea for code there is a lot of going back and force to undrestand what needs to be done. Refactoring is kind of like renovating your code. you still keep its functionality , but you rewrite the code to be readable , clean and modular."
   ]
  },
  {
   "cell_type": "code",
   "execution_count": null,
   "metadata": {
    "collapsed": true
   },
   "outputs": [],
   "source": [
    "Please go to "
   ]
  }
 ],
 "metadata": {
  "kernelspec": {
   "display_name": "Python 3",
   "language": "python",
   "name": "python3"
  },
  "language_info": {
   "codemirror_mode": {
    "name": "ipython",
    "version": 3
   },
   "file_extension": ".py",
   "mimetype": "text/x-python",
   "name": "python",
   "nbconvert_exporter": "python",
   "pygments_lexer": "ipython3",
   "version": "3.6.7"
  }
 },
 "nbformat": 4,
 "nbformat_minor": 2
}
