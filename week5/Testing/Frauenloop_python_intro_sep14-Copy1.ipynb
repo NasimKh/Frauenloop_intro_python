{
 "cells": [
  {
   "cell_type": "markdown",
   "metadata": {},
   "source": [
    "Today's Course outline :"
   ]
  },
  {
   "cell_type": "markdown",
   "metadata": {},
   "source": [
    "1. 20 minutes ( Q & A for last week excersice & course)\n",
    "2. 40 minutes : Intro To functions + excersie\n",
    "3. 5 minutes Break\n",
    "4. Debugging your code + excersie\n",
    "5. 5 minutes Break\n",
    "6. 55 minutes (writing tests for the function + excersie) \n",
    "7. Homework "
   ]
  },
  {
   "cell_type": "markdown",
   "metadata": {},
   "source": [
    "2. Intro to functions\n"
   ]
  },
  {
   "cell_type": "markdown",
   "metadata": {},
   "source": [
    "What are functions ? Do you remember you highshool mathematics course?\n",
    "\n",
    "Y = f ( x ) ----- > f was the function\n",
    "            ----- > x was the argument or input or parameters\n",
    "            ----- > y was the output\n",
    "            \n",
    "What are functions in python  ?\n",
    "    funtions are a serie of staments, grouped together that can(not must ) return values as output.\n",
    "    how you write them ?\n",
    "    def function_name (parameter(s)) :\n",
    "        statmentstsssss\n",
    "        return return_value(s)"
   ]
  },
  {
   "cell_type": "markdown",
   "metadata": {},
   "source": [
    "How to think like a developer when writing functions ???\n",
    "    \n",
    "    1.Think what the function is supposed to do , what inputs it needs and what it should output?\n",
    "    \n",
    "    2. Write down what the function needs to do in plain language and break it down to several steps ('don't code it just yet)\n",
    "    \n",
    "    3.create a function outline ( input,output,descriptive_name) for each of the steps including helper functions.\n",
    "     \n",
    "    4.At this stage, change each of the steps so it is easier to code.\n",
    "    \n",
    "    5.make the outlines for the helper functions.\n",
    "    \n",
    "    6.write  the code of the helper functions, test to see if they work correctly.\n",
    "    \n",
    "    7. Write the complete code of main function and test it.\n",
    "   \n"
   ]
  },
  {
   "cell_type": "markdown",
   "metadata": {},
   "source": [
    "Attention : A helper function is a function that performs part of the computation of another function. Helper functions are used to make your programs easier to read by giving descriptive names to computations. They also let you reuse computations, just as with functions in general."
   ]
  },
  {
   "cell_type": "markdown",
   "metadata": {},
   "source": [
    "Default Values in functions :\n",
    "the default value is usefull when incase an input is not given the default will be used as input. \n",
    "     example \n",
    "     def summation(X = 0 , y= 0 )\n",
    "     "
   ]
  },
  {
   "cell_type": "code",
   "execution_count": 24,
   "metadata": {},
   "outputs": [],
   "source": [
    "pi = 6.155\n",
    "def multiplication (z,t):\n",
    "    return z*pi\n",
    "\n",
    "def summation(x , y ):\n",
    "    #p=multiplication(z,t)\n",
    "    #print(x+y)\n",
    "    return x+y"
   ]
  },
  {
   "cell_type": "code",
   "execution_count": 20,
   "metadata": {},
   "outputs": [
    {
     "data": {
      "text/plain": [
       "3.14"
      ]
     },
     "execution_count": 20,
     "metadata": {},
     "output_type": "execute_result"
    }
   ],
   "source": [
    "multiplication(1, pi)"
   ]
  },
  {
   "cell_type": "code",
   "execution_count": 25,
   "metadata": {},
   "outputs": [
    {
     "ename": "TypeError",
     "evalue": "must be str, not int",
     "output_type": "error",
     "traceback": [
      "\u001b[0;31m---------------------------------------------------------------------------\u001b[0m",
      "\u001b[0;31mTypeError\u001b[0m                                 Traceback (most recent call last)",
      "\u001b[0;32m<ipython-input-25-30607df0281d>\u001b[0m in \u001b[0;36m<module>\u001b[0;34m()\u001b[0m\n\u001b[0;32m----> 1\u001b[0;31m \u001b[0msummation\u001b[0m\u001b[0;34m(\u001b[0m\u001b[0;34m'9'\u001b[0m \u001b[0;34m,\u001b[0m\u001b[0;36m10\u001b[0m\u001b[0;34m)\u001b[0m\u001b[0;34m\u001b[0m\u001b[0;34m\u001b[0m\u001b[0m\n\u001b[0m",
      "\u001b[0;32m<ipython-input-24-d7a5477efa45>\u001b[0m in \u001b[0;36msummation\u001b[0;34m(x, y)\u001b[0m\n\u001b[1;32m      6\u001b[0m     \u001b[0;31m#p=multiplication(z,t)\u001b[0m\u001b[0;34m\u001b[0m\u001b[0;34m\u001b[0m\u001b[0;34m\u001b[0m\u001b[0m\n\u001b[1;32m      7\u001b[0m     \u001b[0;31m#print(x+y)\u001b[0m\u001b[0;34m\u001b[0m\u001b[0;34m\u001b[0m\u001b[0;34m\u001b[0m\u001b[0m\n\u001b[0;32m----> 8\u001b[0;31m     \u001b[0;32mreturn\u001b[0m \u001b[0mx\u001b[0m\u001b[0;34m+\u001b[0m\u001b[0my\u001b[0m\u001b[0;34m\u001b[0m\u001b[0;34m\u001b[0m\u001b[0m\n\u001b[0m",
      "\u001b[0;31mTypeError\u001b[0m: must be str, not int"
     ]
    }
   ],
   "source": [
    "summation('9' ,10)"
   ]
  },
  {
   "cell_type": "code",
   "execution_count": 18,
   "metadata": {},
   "outputs": [
    {
     "data": {
      "text/plain": [
       "19"
      ]
     },
     "execution_count": 18,
     "metadata": {},
     "output_type": "execute_result"
    }
   ],
   "source": [
    "sumss"
   ]
  },
  {
   "cell_type": "markdown",
   "metadata": {},
   "source": [
    "Excersie : \n",
    "    "
   ]
  },
  {
   "cell_type": "markdown",
   "metadata": {},
   "source": [
    "1. write a function that calculates the surface of a square.\n",
    "    \n",
    "2. In a particular jurisdiction, taxi fares consist of a base fare of $4.00, plus $0.25 for every 140 meters traveled. Write a function that takes the distance traveled (in kilometers) as its only parameter and returns the total fare as its only result. \n",
    "Hint: Taxi fares change over time. Use constants to represent the base fare and the variable portion of the fare so that the program can be updated easily when the rates increase.\n",
    "     \n",
    "3. A prime number is an integer greater than 1 that is only divisible by one and itself. Write a function that determines whether or not its parameter is prime, returning True if it is, and False otherwise. Write a main program that reads an integer from the user and displays a message indicating whether or not it is prime.\n",
    " \n",
    "4. an extra day is added to the calendar almost every four years as February 29, and the day is called a leap day. It corrects the calendar for the fact that our planet takes approximately 365.25 days to orbit the sun. A leap year contains a leap day.\n",
    "\n",
    "In the Gregorian calendar, three conditions are used to identify leap years:\n",
    "\n",
    "    The year can be evenly divided by 4, is a leap year, unless:\n",
    "        The year can be evenly divided by 100, it is NOT a leap year, unless:\n",
    "            The year is also evenly divisible by 400. Then it is a leap year.\n",
    "\n",
    "This means that in the Gregorian calendar, the years 2000 and 2400 are leap years, while 1800, 1900, 2100, 2200, 2300 and 2500 are NOT leap years. \n",
    "\n",
    "Task\n",
    "\n",
    "Given a year, determine whether it is a leap year. If it is a leap year, return the Boolean True, otherwise return False.\n",
    "\n"
   ]
  },
  {
   "cell_type": "code",
   "execution_count": null,
   "metadata": {
    "collapsed": true
   },
   "outputs": [],
   "source": []
  },
  {
   "cell_type": "markdown",
   "metadata": {
    "collapsed": true
   },
   "source": [
    "# Debugging your code \n",
    "## Errors\n",
    "  1. ### syntax errors\n",
    "      The code does not run .\n",
    "      Examples : wrong indentation , missing : (   , wrong names ,etc\n",
    "  2. ### exception error : \n",
    "   the code is correct but an unexpected things happen during execution \n",
    "   Most common are listed below:\n",
    "   "
   ]
  },
  {
   "cell_type": "markdown",
   "metadata": {},
   "source": [
    "<img src=\"errors.png\">\n",
    "photos taken from udacity : intro to python programming\n",
    "\n",
    "There are many more errors you can find a list here : \n",
    "https://docs.python.org/3/library/exceptions.html"
   ]
  },
  {
   "cell_type": "markdown",
   "metadata": {},
   "source": [
    "1. Syntax errors: The script won't run. make sure the indentation is correct .\n",
    "    use paranthesis if necessary don't forget : at the end of if , for , ...\n",
    "    "
   ]
  },
  {
   "cell_type": "markdown",
   "metadata": {},
   "source": [
    "The above is how jupyter shows you a syntax error . I have not made the above cell into a markdown cell."
   ]
  },
  {
   "cell_type": "code",
   "execution_count": 23,
   "metadata": {},
   "outputs": [],
   "source": [
    "for i in range(10):\n",
    "    i+=1"
   ]
  },
  {
   "cell_type": "markdown",
   "metadata": {},
   "source": [
    "the syntax erorr are fast to fix. The python editor shows usually what is wrong.\n"
   ]
  },
  {
   "cell_type": "markdown",
   "metadata": {},
   "source": [
    "2. Exception errors. \n",
    "For handling this error we can use the Try.. Except :"
   ]
  },
  {
   "cell_type": "code",
   "execution_count": 30,
   "metadata": {},
   "outputs": [
    {
     "name": "stdout",
     "output_type": "stream",
     "text": [
      "Please enter a x: 1\n",
      "Please enter a y: 2\n",
      "else block : result is 0.5\n",
      "final block: thank you for trying\n"
     ]
    }
   ],
   "source": [
    "try:\n",
    "    x = int(input(\"Please enter a x: \"))\n",
    "    y = int(input(\"Please enter a y: \"))\n",
    "    result = x / y \n",
    "except ValueError:\n",
    "    result = 0 \n",
    "    print(\"Oops!  That was no valid number.  Try again...\")\n",
    "except ZeroDivisionError as err:\n",
    "    result = 'inf'\n",
    "    print('Oops! I can not divide by zero. error :{}'.format(err))\n",
    "else:\n",
    "    print(\"else block : result is {}\".format(result))\n",
    "finally : # this block is executed finally regardless or exception.\n",
    "    print('final block: thank you for trying')\n",
    "        \n",
    "\n",
    "    "
   ]
  },
  {
   "cell_type": "markdown",
   "metadata": {},
   "source": [
    "Now that we know our errors let's talk testing."
   ]
  },
  {
   "cell_type": "markdown",
   "metadata": {},
   "source": [
    "What is testing ????\n",
    "Testing is a way to make sure your code works correctly. \n",
    "\n",
    "There are different kind of tests :\n",
    "1. unittests  : that a unit , a part (usually a function ) works correctly\n",
    "2. Intergrationtest : that the different parts of program work correctly together. \n"
   ]
  },
  {
   "cell_type": "markdown",
   "metadata": {},
   "source": [
    "1. Manual test :All of you have used this when writing code. For example printig a value and see if it works correctly.\n",
    "\n",
    "    "
   ]
  },
  {
   "cell_type": "markdown",
   "metadata": {},
   "source": [
    "Excersise : \n",
    "    Write a function that calculates the nearest square of a number.\n",
    "    "
   ]
  },
  {
   "cell_type": "code",
   "execution_count": null,
   "metadata": {
    "collapsed": true
   },
   "outputs": [],
   "source": []
  },
  {
   "cell_type": "markdown",
   "metadata": {},
   "source": [
    "Manual testing : "
   ]
  },
  {
   "cell_type": "code",
   "execution_count": 2,
   "metadata": {},
   "outputs": [],
   "source": [
    "from nearest_num import nearest_square"
   ]
  },
  {
   "cell_type": "code",
   "execution_count": 3,
   "metadata": {},
   "outputs": [
    {
     "data": {
      "text/plain": [
       "9"
      ]
     },
     "execution_count": 3,
     "metadata": {},
     "output_type": "execute_result"
    }
   ],
   "source": [
    "nearest_square(10)"
   ]
  },
  {
   "cell_type": "code",
   "execution_count": 4,
   "metadata": {},
   "outputs": [
    {
     "data": {
      "text/plain": [
       "0"
      ]
     },
     "execution_count": 4,
     "metadata": {},
     "output_type": "execute_result"
    }
   ],
   "source": [
    "nearest_square(-20)"
   ]
  },
  {
   "cell_type": "code",
   "execution_count": 5,
   "metadata": {},
   "outputs": [
    {
     "data": {
      "text/plain": [
       "0"
      ]
     },
     "execution_count": 5,
     "metadata": {},
     "output_type": "execute_result"
    }
   ],
   "source": [
    "nearest_square(0)"
   ]
  },
  {
   "cell_type": "code",
   "execution_count": 6,
   "metadata": {},
   "outputs": [
    {
     "data": {
      "text/plain": [
       "9"
      ]
     },
     "execution_count": 6,
     "metadata": {},
     "output_type": "execute_result"
    }
   ],
   "source": [
    "nearest_square(9)"
   ]
  },
  {
   "cell_type": "markdown",
   "metadata": {},
   "source": [
    "This is a bad way of testing :\n",
    "    1. It is not reproducible\n",
    "    2. Takes time to enter every value manually\n",
    "    3. does not tell you what the correct answer should be. "
   ]
  },
  {
   "cell_type": "markdown",
   "metadata": {},
   "source": [
    "2. Using assert : Test if a condition returns True \n",
    "                 1.put all the test in a seperate file.\n",
    "                 2.using assert to test the answers.\n",
    "                 \n",
    "still not a good way . \n",
    "\n",
    "          1.The answer to the tests are messy . \n",
    "          2. it will stop once it finds an error. will not run all the unit tests.\n",
    "          3. it does not tell what value did the function return \n",
    "          \n",
    "          "
   ]
  },
  {
   "cell_type": "markdown",
   "metadata": {},
   "source": [
    "Good way : Pytest\n",
    "    install pytest on your system \n",
    "    \n",
    "    conda install pytest \n",
    "    \n",
    "    or\n",
    "    \n",
    "    pip install -U pytest\n",
    "    \n",
    "read more about pytest : https://docs.pytest.org/en/stable/getting-started.html"
   ]
  },
  {
   "cell_type": "markdown",
   "metadata": {},
   "source": [
    "\n",
    "1. Create a test file and start the name with test_ :\n",
    "2.  Define unit test functions that start with test_ inside the test file\n",
    "3. run pytest test_....py from your terminal. \n",
    "(be carful if you have virtualenv / or if you installed pytest with conda.)\n",
    "4. test_my_test .... means it run succesfully.\n",
    "5. test_my_test ...F means it failed.\n"
   ]
  },
  {
   "cell_type": "code",
   "execution_count": null,
   "metadata": {
    "collapsed": true
   },
   "outputs": [],
   "source": [
    "Excersie : write test cases for all of our excersise."
   ]
  },
  {
   "cell_type": "code",
   "execution_count": null,
   "metadata": {
    "collapsed": true
   },
   "outputs": [],
   "source": []
  },
  {
   "cell_type": "code",
   "execution_count": 7,
   "metadata": {},
   "outputs": [],
   "source": [
    "class calculator:\n",
    "    def __init__(self,a,b):\n",
    "        self.a = a\n",
    "        self.b = b\n",
    "    def add(self):\n",
    "        return self.a + self.b\n",
    "    def sub(self):\n",
    "        return self.a - self.b\n",
    "    def multiply(self):\n",
    "        return self.a * self.b\n",
    "    def divide(self):\n",
    "        if self.b == 0 :\n",
    "            raise ValueError('division by zero')\n",
    "        return self.a / self.b"
   ]
  },
  {
   "cell_type": "code",
   "execution_count": 9,
   "metadata": {},
   "outputs": [],
   "source": [
    "set1=calculator(5,10)"
   ]
  },
  {
   "cell_type": "code",
   "execution_count": 10,
   "metadata": {},
   "outputs": [
    {
     "data": {
      "text/plain": [
       "15"
      ]
     },
     "execution_count": 10,
     "metadata": {},
     "output_type": "execute_result"
    }
   ],
   "source": [
    "calculator.add(set1)"
   ]
  },
  {
   "cell_type": "code",
   "execution_count": null,
   "metadata": {},
   "outputs": [],
   "source": []
  }
 ],
 "metadata": {
  "kernelspec": {
   "display_name": "Python 3",
   "language": "python",
   "name": "python3"
  },
  "language_info": {
   "codemirror_mode": {
    "name": "ipython",
    "version": 3
   },
   "file_extension": ".py",
   "mimetype": "text/x-python",
   "name": "python",
   "nbconvert_exporter": "python",
   "pygments_lexer": "ipython3",
   "version": "3.8.5"
  }
 },
 "nbformat": 4,
 "nbformat_minor": 2
}
